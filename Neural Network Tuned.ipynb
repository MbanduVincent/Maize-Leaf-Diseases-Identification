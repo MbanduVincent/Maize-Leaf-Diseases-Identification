{
 "cells": [
  {
   "cell_type": "code",
   "execution_count": null,
   "metadata": {
    "id": "DJz_VpLytPKM"
   },
   "outputs": [],
   "source": [
    "'''\n",
    "Using features generated using HOG, show the model perfomance:\n",
    "    accuracy\n",
    "    precision\n",
    "    recall\n",
    "    f1-score\n",
    "for the models:\n",
    "    Random Forest\n",
    "    Support Vector Classifier\n",
    "    Linear SVC\n",
    "    Logistic Regression\n",
    "    K-Nearest Neighbor\n",
    "    Artificial Neural Network\n",
    "    Decision Tree\n",
    "for the base model as well as with tuned hyper-parameters\n",
    "Cross-validation is used\n",
    "'''"
   ]
  },
  {
   "cell_type": "code",
   "execution_count": 1,
   "metadata": {
    "id": "gx-1qH0euO16"
   },
   "outputs": [],
   "source": [
    "#for array manipulations\n",
    "import numpy as np\n",
    "#for image processing\n",
    "import cv2 \n",
    "#for displaying images\n",
    "import matplotlib.pyplot as plt\n",
    "#to display images in this notebook, not in a separate window\n",
    "%matplotlib inline\n",
    "#to access system resources such as directories\n",
    "import os\n",
    "import time\n",
    "import pandas as pd\n",
    "import seaborn as sns"
   ]
  },
  {
   "cell_type": "code",
   "execution_count": 2,
   "metadata": {
    "id": "_WGpW6qnufFV"
   },
   "outputs": [],
   "source": [
    "from sklearn.preprocessing import StandardScaler\n",
    "from sklearn.model_selection import train_test_split\n",
    "from sklearn.preprocessing import LabelEncoder\n",
    "\n",
    "from sklearn.ensemble import RandomForestClassifier\n",
    "from sklearn.linear_model import LogisticRegression\n",
    "from sklearn.svm import SVC, LinearSVC\n",
    "from sklearn.neighbors import KNeighborsClassifier\n",
    "from sklearn.neural_network import MLPClassifier\n",
    "from sklearn.naive_bayes import BernoulliNB\n",
    "from sklearn.tree import DecisionTreeClassifier\n",
    "\n",
    "from sklearn.metrics import accuracy_score, auc, classification_report, confusion_matrix, f1_score\n",
    "from sklearn.metrics import precision_score, recall_score\n",
    "from sklearn.feature_selection import RFECV\n",
    "from sklearn.model_selection import train_test_split\n",
    "from sklearn.model_selection import KFold\n",
    "from sklearn.model_selection import cross_val_score, cross_val_predict \n",
    "from sklearn.model_selection import GridSearchCV, RandomizedSearchCV"
   ]
  },
  {
   "cell_type": "code",
   "execution_count": 3,
   "metadata": {
    "id": "DTzPdcZmuhMu"
   },
   "outputs": [],
   "source": [
    "#Set this to point to the project root; all paths will be relative to this one\n",
    "project_dir = 'C:/Users/VINCENT/Dropbox/PC/Documents/maize-disease-detection'"
   ]
  },
  {
   "cell_type": "code",
   "execution_count": 4,
   "metadata": {
    "id": "FgEOLXlGukMe"
   },
   "outputs": [],
   "source": [
    "def set_up_directories(project_dir=project_dir):\n",
    "    \"\"\"Sets up the paths to important directories\n",
    "    \n",
    "    Parameters\n",
    "    ----------\n",
    "    project_dir : string; default is the current working directory\n",
    "        The path to the project root i.e '/home/vincent/projects/maize-disease-detection'\n",
    "    \n",
    "    returns\n",
    "    -------\n",
    "    base_dir : string\n",
    "        The project directory path\n",
    "    data_folder : string\n",
    "        The data subfolder path\n",
    "    maize_data_folder : \n",
    "        The path to the subdirectory containing the maize images\n",
    "        \n",
    "    example usage\n",
    "    -------------\n",
    "    base_dir, data_folder, maize_data_folder = set_up_directories()\n",
    "    \"\"\"\n",
    "    \n",
    "    #set our base directory. This should point to the location of the plant-diseases folder\n",
    "    base_dir = project_dir\n",
    "    #set the path to our data folder\n",
    "    data_folder = os.path.join(base_dir, 'data')\n",
    "    #set the path to the maize folder and list the various categories available\n",
    "    maize_data_folder = os.path.join(data_folder, 'maize')\n",
    "\n",
    "    return base_dir, data_folder, maize_data_folder\n",
    "\n",
    "def get_images(disease, image_count=200, offset=0):\n",
    "    \"\"\"Loads a specified number of images for a given maize disease\n",
    "    \n",
    "    parameters\n",
    "    ----------\n",
    "    disease: string\n",
    "        A string that could be common_rust, healthy, leaf_spot, nothern_leaf_blight\n",
    "    image_count : int\n",
    "        Number of images to return\n",
    "    returns\n",
    "    -------\n",
    "    disease_images: list\n",
    "        A list of images for the selected disease\n",
    "    offset : int\n",
    "        Where to begin\n",
    "    \"\"\"\n",
    "    \n",
    "    #this list will contain the  images returned\n",
    "    disease_images = []\n",
    "    #path to the images\n",
    "    disease_images_path = os.path.join(maize_data_folder, disease)\n",
    "    count = 0\n",
    "    image_paths = os.listdir(disease_images_path)\n",
    "    for image_path in image_paths[offset:]:\n",
    "        if count == image_count:\n",
    "            break\n",
    "        image_path = os.path.join(disease_images_path, image_path)\n",
    "        image = cv2.imread(image_path, cv2.IMREAD_COLOR)\n",
    "        image = cv2.cvtColor(image,cv2.COLOR_BGR2RGB)\n",
    "        disease_images.append(image)\n",
    "        count += 1\n",
    "    return disease_images\n",
    "\n",
    "def extract_features_hog(image, feature_size=4096):\n",
    "    \"\"\"Extracts hog features for the image\n",
    "    \n",
    "    parameters\n",
    "    ----------\n",
    "    image : numpy array\n",
    "        The image whose features are to be extracted\n",
    "    feature_size : int\n",
    "        The number of features to generate\n",
    "    returns\n",
    "    -------\n",
    "        hog_features : numpy array \n",
    "        \n",
    "    raises\n",
    "    ------\n",
    "    cv2.error\n",
    "    \"\"\"\n",
    "    hog = cv2.HOGDescriptor()\n",
    "    try:\n",
    "        features = hog.compute(image)\n",
    "        required_features = features[:feature_size].ravel()\n",
    "    except AttributeError as e:\n",
    "        raise AttributeError('Unable to generate features for the given image')\n",
    "    else:    \n",
    "        return required_features\n",
    "\n",
    "def extract_train_features(algorithm='hog', dataset_size=200):\n",
    "    \"\"\"Extracts features for the given number of images in the dataset\n",
    "\n",
    "    Uses the specified algorithm\n",
    "    Generates specified training samples for each maize disease\n",
    "    parameters\n",
    "    ----------\n",
    "    algorithm : string\n",
    "    ---------\n",
    "        The algorithm to use; could be 'kaze', 'orb' or 'hog'\n",
    "    dataset_size : int, optional\n",
    "        Number of images to load for each category\n",
    "    returns\n",
    "    -------\n",
    "    features : numpy array\n",
    "        The features used to train the models\n",
    "    labels : numpy array\n",
    "        The feature labels\n",
    "    \"\"\"\n",
    "\n",
    "    features = []\n",
    "    labels = []\n",
    "    disease_names = ['common_rust', 'healthy', 'leaf_spot', 'nothern_leaf_blight']\n",
    "    for disease_name in disease_names:\n",
    "        images = get_images(disease_name, image_count=dataset_size)\n",
    "        for image in images:\n",
    "            try:\n",
    "                if algorithm == 'kaze':\n",
    "                    image_features = extract_features_kaze(image)\n",
    "                    features.append(image_features)\n",
    "                elif algorithm == 'orb':\n",
    "                    image_features = extract_features_orb(image)\n",
    "                    features.append(image_features)\n",
    "                else:\n",
    "                    image_features = extract_features_hog(image)\n",
    "                    features.append(image_features)\n",
    "                labels.append(disease_name)\n",
    "            except AttributeError as e:\n",
    "                continue\n",
    "    features = np.array(features)\n",
    "    labels = np.array(labels)\n",
    "    features = StandardScaler().fit_transform(features)\n",
    "    labels = LabelEncoder().fit_transform(labels)\n",
    "    \n",
    "    return  features, labels\n",
    "\n",
    "def extract_test_features(algorithm='hog', dataset_size=400):\n",
    "    \"\"\"Extracts features for the given number of images in the dataset\n",
    "\n",
    "    Uses kaze algorithm\n",
    "    parameters\n",
    "    ----------\n",
    "    algorithm : string\n",
    "        The algorithm to use; could be 'kaze', 'orb' or 'hog'\n",
    "    dataset_size : int\n",
    "        Number of images to load for each category\n",
    "    returns\n",
    "    -------\n",
    "    features : numpy array\n",
    "        The features used to train the models\n",
    "    labels : numpy array\n",
    "        The feature labels\n",
    "    \"\"\"\n",
    "\n",
    "    test_features = []\n",
    "    test_labels = []\n",
    "    disease_names = ['common_rust', 'healthy', 'leaf_spot', 'nothern_leaf_blight']\n",
    "    for disease_name in disease_names:\n",
    "        images = get_images(disease_name, image_count=dataset_size, offset=1050)\n",
    "        for image in images:\n",
    "            try:\n",
    "                if algorithm == 'kaze':\n",
    "                    image_features = extract_features_kaze(image)\n",
    "                    test_features.append(image_features)\n",
    "                elif algorithm == 'orb':\n",
    "                    image_features = extract_features_orb(image)\n",
    "                    test_features.append(image_features)\n",
    "                else:\n",
    "                    image_features = extract_features_hog(image)\n",
    "                    test_features.append(image_features)\n",
    "                test_labels.append(disease_name)\n",
    "            except AttributeError as e:\n",
    "                continue\n",
    "    test_features = np.array(test_features)\n",
    "    test_labels = np.array(test_labels)\n",
    "    test_features = StandardScaler().fit_transform(test_features)\n",
    "    test_labels = LabelEncoder().fit_transform(test_labels)\n",
    "    \n",
    "    return  test_features, test_labels"
   ]
  },
  {
   "cell_type": "code",
   "execution_count": 5,
   "metadata": {
    "id": "Yhg_1HGaurIu"
   },
   "outputs": [],
   "source": [
    "#Directories set up\n",
    "base_dir, data_folder, maize_data_folder = set_up_directories()"
   ]
  },
  {
   "cell_type": "code",
   "execution_count": 6,
   "metadata": {
    "colab": {
     "base_uri": "https://localhost:8080/",
     "height": 34
    },
    "id": "ASP9SbqputUl",
    "outputId": "2005ec45-96f5-401b-d94b-f6e31b77b512"
   },
   "outputs": [
    {
     "data": {
      "text/plain": [
       "((4800, 4096), (4800,))"
      ]
     },
     "execution_count": 6,
     "metadata": {},
     "output_type": "execute_result"
    }
   ],
   "source": [
    "hog_train_features, hog_train_labels = extract_train_features(dataset_size=1200)\n",
    "hog_train_features.shape, hog_train_labels.shape"
   ]
  },
  {
   "cell_type": "code",
   "execution_count": 7,
   "metadata": {
    "colab": {
     "base_uri": "https://localhost:8080/",
     "height": 34
    },
    "id": "VJ1urgJwu4yF",
    "outputId": "4f1d98a2-f072-4c87-8354-ad4b0fbd3504"
   },
   "outputs": [
    {
     "data": {
      "text/plain": [
       "((1600, 4096), (1600,))"
      ]
     },
     "execution_count": 7,
     "metadata": {},
     "output_type": "execute_result"
    }
   ],
   "source": [
    "hog_test_features, hog_test_labels = extract_test_features(dataset_size=400)\n",
    "hog_test_features.shape, hog_test_labels.shape"
   ]
  },
  {
   "cell_type": "code",
   "execution_count": 8,
   "metadata": {
    "id": "hlXSj-KlxbEZ"
   },
   "outputs": [],
   "source": [
    "def create_confusion_matrix(predictions, labels):\n",
    "    \"\"\"generates the confusion matrix\n",
    "\n",
    "    parameters\n",
    "    ----------\n",
    "    returns\n",
    "    -------\n",
    "    confusion_matrix : numpy array\n",
    "        The confusion matrix\n",
    "    \"\"\"\n",
    "    cm = confusion_matrix(predictions, labels)\n",
    "\n",
    "    plt.figure(figsize=(12,10))\n",
    "    sns.heatmap(cm, annot=True, cbar=False)\n",
    "    plt.title('Confusion Matrix Visualization')\n",
    "    plt.ylabel('True Values')\n",
    "    plt.xlabel('Predicted Values')\n",
    "    plt.show()\n",
    "\n",
    "def create_confusion_matrix_labelled(predictions, labels, diseases=['common_rust', 'healthy', 'leaf_spot', 'nothern_leaf_blight']):\n",
    "    \"\"\"generates the confusion matrix\n",
    "\n",
    "    parameters\n",
    "    ----------\n",
    "    returns\n",
    "    -------\n",
    "    confusion_matrix : numpy array\n",
    "        The confusion matrix\n",
    "    \"\"\"\n",
    "    cm = confusion_matrix(predictions, labels)\n",
    "\n",
    "    plt.figure(figsize=(12,10))\n",
    "    sns.heatmap(cm, annot=True, cbar=True)\n",
    "    tick_marks = np.arange(len(diseases))\n",
    "    plt.xticks(tick_marks, diseases, rotation=45)\n",
    "    plt.yticks(tick_marks, diseases, rotation=45)\n",
    "    plt.title('Confusion Matrix Visualization')\n",
    "    plt.ylabel('True Label')\n",
    "    plt.xlabel('Predicted Label')\n",
    "    plt.show()\n",
    "\n",
    "def train_model(model, train_features, train_labels):\n",
    "    \"\"\"Trains the given model\n",
    "\n",
    "    Uses cross-validation\n",
    "    parameters\n",
    "    ----------\n",
    "    model\n",
    "    train_features\n",
    "    \"\"\"\n",
    "\n",
    "    start_time = time.time()\n",
    "    train_scores = scores = cross_val_score(model, train_features, train_labels, scoring='accuracy', cv=10)\n",
    "    stop_time = time.time()\n",
    "    train_time = round((stop_time - start_time), 3)\n",
    "    train_score = round(np.mean(train_scores), 3)\n",
    "    return train_score, train_time\n",
    "\n",
    "def test_model(model, test_features, test_labels):\n",
    "    \"\"\"Trains the given model\n",
    "\n",
    "    Uses cross-validation\n",
    "    parameters\n",
    "    ----------\n",
    "    model\n",
    "    train_features\n",
    "    \"\"\"\n",
    "\n",
    "    test_predictions = cross_val_predict(model, test_features, test_labels, cv=10)\n",
    "    test_score = round(accuracy_score(test_labels, test_predictions), 3)\n",
    "    prescision = round(precision_score(test_labels, test_predictions, average='micro'), 3)\n",
    "    recall = round(recall_score(test_labels, test_predictions, average='micro'), 3)\n",
    "    f_1 = round(f1_score(test_labels, test_predictions, average='micro'), 3)\n",
    "    return test_score\n",
    "\n",
    "def model_classification_report(model, test_features, test_labels, diseases=['common_rust', 'healthy', 'leaf_spot', \n",
    "                                                                             'nothern_leaf_blight']):\n",
    "    predictions = model.predict(test_features)\n",
    "    encoder = LabelEncoder()\n",
    "    encoded_labels= encoder.fit_transform(diseases)\n",
    "    decoded_predictions = encoder.inverse_transform(predictions)\n",
    "    decoded_test_labels = encoder.inverse_transform(test_labels)\n",
    "    print(classification_report(decoded_test_labels, decoded_predictions,  \n",
    "                        labels=['common_rust', 'healthy', 'leaf_spot', 'nothern_leaf_blight']))\n",
    "\n",
    "def model_perfomance(model, name, train_set=(hog_train_features, hog_train_labels), \n",
    "                     test_set=(hog_test_features, hog_test_labels)):\n",
    "    \"\"\"Model perfomance on the hog dataset\n",
    "\n",
    "    parameters\n",
    "    ----------\n",
    "    model : scikit-learn Classifier\n",
    "        Model to be tested\n",
    "    returns\n",
    "    -------\n",
    "    model_perfomance : pandas DataFrame\n",
    "    \"\"\"\n",
    "\n",
    "    #Assert dataset shape and type\n",
    "\n",
    "    import warnings\n",
    "    warnings.filterwarnings('ignore')\n",
    "\n",
    "    #Training accuracy and Time\n",
    "    print(f'**********{name}**********')\n",
    "    print('\\n')\n",
    "    train_score, train_time = train_model(model, train_set[0], train_set[1])\n",
    "\n",
    "    #Test Accuracy\n",
    "    model.fit( train_set[0], train_set[1])\n",
    "    test_score = test_model(model, test_set[0], test_set[1]) \n",
    "\n",
    "    #The model perfomance \n",
    "    df = pd.DataFrame({'Model': [name], 'Train Accuracy': [train_score], 'Test Accuracy': [test_score], 'Train Time':[train_time]})\n",
    "    print(df)\n",
    "    print('\\n')\n",
    "\n",
    "    #The classification report\n",
    "    model_classification_report(model, test_set[0], test_set[1])\n",
    "    print('\\n')\n",
    "\n",
    "    #The confusion matrix\n",
    "    predictions = model.predict(test_set[0])\n",
    "    #create_confusion_matrix(predictions, test_set[1])\n",
    "    create_confusion_matrix_labelled(predictions, test_set[1])\n",
    "    print('\\n')\n",
    "    print('*********The Key**********')\n",
    "    print('\\t0: Common Rust\\n\\t1: Healthy\\n\\t2: Leaf Spot\\n\\t3: Nothern Leaf Blight')"
   ]
  },
  {
   "cell_type": "code",
   "execution_count": 9,
   "metadata": {
    "id": "Py6BleIjG5Nu"
   },
   "outputs": [],
   "source": [
    "neural_network_tuned = MLPClassifier(activation='relu', alpha=0.001, batch_size='auto', beta_1=0.9,\n",
    "              beta_2=0.999, early_stopping=False, epsilon=1e-08,\n",
    "              hidden_layer_sizes=(100,), learning_rate='constant',\n",
    "              learning_rate_init=0.001, max_fun=15000, max_iter=100,\n",
    "              momentum=0.9, n_iter_no_change=10, nesterovs_momentum=True,\n",
    "              power_t=0.5, random_state=None, shuffle=True, solver='adam',\n",
    "              tol=1e-05, validation_fraction=0.1, verbose=False,\n",
    "              warm_start=False)"
   ]
  },
  {
   "cell_type": "code",
   "execution_count": 10,
   "metadata": {
    "colab": {
     "base_uri": "https://localhost:8080/",
     "height": 1000
    },
    "id": "2GSStRMDH3LF",
    "outputId": "4130806b-cb41-4b3d-e029-9d777510ba1c"
   },
   "outputs": [
    {
     "name": "stdout",
     "output_type": "stream",
     "text": [
      "**********Neural Network Tuned**********\n",
      "\n",
      "\n",
      "                  Model  Train Accuracy  Test Accuracy  Train Time\n",
      "0  Neural Network Tuned           0.801          0.779    1233.347\n",
      "\n",
      "\n",
      "                     precision    recall  f1-score   support\n",
      "\n",
      "        common_rust       0.98      0.97      0.98       400\n",
      "            healthy       0.86      0.89      0.87       400\n",
      "          leaf_spot       0.91      0.86      0.89       400\n",
      "nothern_leaf_blight       0.81      0.84      0.83       400\n",
      "\n",
      "           accuracy                           0.89      1600\n",
      "          macro avg       0.89      0.89      0.89      1600\n",
      "       weighted avg       0.89      0.89      0.89      1600\n",
      "\n",
      "\n",
      "\n"
     ]
    },
    {
     "data": {
      "image/png": "[encoded data removed]",
      "text/plain": [
       "<Figure size 864x720 with 2 Axes>"
      ]
     },
     "metadata": {
      "needs_background": "light"
     },
     "output_type": "display_data"
    },
    {
     "name": "stdout",
     "output_type": "stream",
     "text": [
      "\n",
      "\n",
      "*********The Key**********\n",
      "\t0: Common Rust\n",
      "\t1: Healthy\n",
      "\t2: Leaf Spot\n",
      "\t3: Nothern Leaf Blight\n"
     ]
    }
   ],
   "source": [
    "model_perfomance(neural_network_tuned, 'Neural Network Tuned')"
   ]
  },
  {
   "cell_type": "code",
   "execution_count": 59,
   "metadata": {
    "id": "9o1rj5cHH6l9"
   },
   "outputs": [],
   "source": [
    "      \n",
    "random_forest_tuned = RandomForestClassifier(bootstrap=True, ccp_alpha=0.0, class_weight=None,\n",
    "                       criterion='gini', max_depth=None, max_features=2000,\n",
    "                       max_leaf_nodes=None, max_samples=None,\n",
    "                       min_impurity_decrease=0.0, min_impurity_split=None,\n",
    "                       min_samples_leaf=1, min_samples_split=2,\n",
    "                       min_weight_fraction_leaf=0.0, n_estimators=200,\n",
    "                       n_jobs=None, oob_score=False, random_state=None,\n",
    "                       verbose=0, warm_start=False)"
   ]
  },
  {
   "cell_type": "code",
   "execution_count": 60,
   "metadata": {
    "colab": {
     "base_uri": "https://localhost:8080/",
     "height": 1000
    },
    "id": "hsH588CtI1r0",
    "outputId": "691ec57e-f1a0-401b-8bff-6fcf9e1e49b6"
   },
   "outputs": [
    {
     "name": "stdout",
     "output_type": "stream",
     "text": [
      "********** Random Forest Tuned**********\n",
      "\n",
      "\n",
      "                  Model  Train Accuracy  Test Accuracy  Train Time\n",
      "0   Random Forest Tuned           0.804          0.802   18511.419\n",
      "\n",
      "\n",
      "                     precision    recall  f1-score   support\n",
      "\n",
      "        common_rust       0.98      0.94      0.96       400\n",
      "            healthy       0.86      0.92      0.89       400\n",
      "          leaf_spot       0.98      0.88      0.92       400\n",
      "nothern_leaf_blight       0.82      0.89      0.85       400\n",
      "\n",
      "           accuracy                           0.91      1600\n",
      "          macro avg       0.91      0.91      0.91      1600\n",
      "       weighted avg       0.91      0.91      0.91      1600\n",
      "\n",
      "\n",
      "\n"
     ]
    },
    {
     "data": {
      "image/png": "[encoded data removed]",
      "text/plain": [
       "<Figure size 864x720 with 2 Axes>"
      ]
     },
     "metadata": {
      "needs_background": "light"
     },
     "output_type": "display_data"
    },
    {
     "name": "stdout",
     "output_type": "stream",
     "text": [
      "\n",
      "\n",
      "*********The Key**********\n",
      "\t0: Common Rust\n",
      "\t1: Healthy\n",
      "\t2: Leaf Spot\n",
      "\t3: Nothern Leaf Blight\n"
     ]
    }
   ],
   "source": [
    "#BE WARNED THIS TOOK 1208.377s\n",
    "model_perfomance(random_forest_tuned,' Random Forest Tuned')"
   ]
  },
  {
   "cell_type": "code",
   "execution_count": 61,
   "metadata": {
    "id": "HL9t-zVzSFCO"
   },
   "outputs": [],
   "source": [
    "models = [\n",
    "          (linear_svc_tuned),\n",
    "          (logistic_regression_tuned),\n",
    "          (k_nearest_tuned),\n",
    "          (svc_tuned),\n",
    "          (decision_tree_tuned),\n",
    "          (neural_network_tuned),\n",
    "          (random_forest_tuned)\n",
    "]\n",
    "names = [\n",
    "         'Linear SVC',\n",
    "         'Logistic Regression',\n",
    "         'K-Nearest Neighbor',\n",
    "         'Support Vector Classifier',\n",
    "         'Decision Tree',\n",
    "         'Artificial Neural Network',\n",
    "         'Random Forest'\n",
    "]"
   ]
  },
  {
   "cell_type": "code",
   "execution_count": 62,
   "metadata": {
    "id": "lLnQsVzNI82E"
   },
   "outputs": [],
   "source": [
    "def results(models=models, names=names, train_set=(hog_train_features, hog_train_labels), \n",
    "                     test_set=(hog_test_features, hog_test_labels)):\n",
    "    #Assert that train_set and test_set are both tuples, shape\n",
    "    #Assert that shapes of train set and test set are appropriate\n",
    "    #assert shape of models and names\n",
    "    #assert contents of models and names\n",
    "    model_train_accuracy_tuned = []\n",
    "    model_test_accuracy_tuned = []\n",
    "    model_train_time_tuned = []\n",
    "    for model_tuned in models:\n",
    "\n",
    "        train_accuracy_tuned, train_time_tuned = train_model(model_tuned, train_set[0], train_set[1])\n",
    "        model_train_accuracy_tuned.append(train_accuracy_tuned)\n",
    "        model_train_time_tuned.append(train_time_tuned)\n",
    "\n",
    "        model_tuned.fit( train_set[0], train_set[1])\n",
    "        test_score_tuned = test_model(model_tuned, test_set[0], test_set[1])\n",
    "        model_test_accuracy_tuned.append(test_score_tuned)\n",
    "                                      \n",
    "    df = pd.DataFrame({'Model': names,'Tuned Train Accuracy': model_train_accuracy_tuned, \n",
    "                       'Tuned Test Accuracy': model_test_accuracy_tuned, 'Tuned Train Time': model_train_time_tuned})\n",
    "    df = df.sort_values(by=['Tuned Train Accuracy'], ascending=False)\n",
    "    return df"
   ]
  },
  {
   "cell_type": "code",
   "execution_count": null,
   "metadata": {},
   "outputs": [],
   "source": [
    "#Took around 1700s\n",
    "results()"
   ]
  },
  {
   "cell_type": "code",
   "execution_count": null,
   "metadata": {
    "id": "kxX_GdgudcYF"
   },
   "outputs": [],
   "source": []
  }
 ],
 "metadata": {
  "colab": {
   "collapsed_sections": [],
   "name": "Experiment Five.ipynb",
   "provenance": []
  },
  "kernelspec": {
   "display_name": "Python 3",
   "language": "python",
   "name": "python3"
  },
  "language_info": {
   "codemirror_mode": {
    "name": "ipython",
    "version": 3
   },
   "file_extension": ".py",
   "mimetype": "text/x-python",
   "name": "python",
   "nbconvert_exporter": "python",
   "pygments_lexer": "ipython3",
   "version": "3.8.5"
  }
 },
 "nbformat": 4,
 "nbformat_minor": 1
}
